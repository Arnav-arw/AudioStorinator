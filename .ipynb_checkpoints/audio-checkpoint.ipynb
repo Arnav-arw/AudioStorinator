{
 "cells": [
  {
   "cell_type": "code",
   "execution_count": 1,
   "metadata": {},
   "outputs": [
    {
     "ename": "ModuleNotFoundError",
     "evalue": "No module named 'matplotlib'",
     "output_type": "error",
     "traceback": [
      "\u001b[0;31m---------------------------------------------------------------------------\u001b[0m",
      "\u001b[0;31mModuleNotFoundError\u001b[0m                       Traceback (most recent call last)",
      "Input \u001b[0;32mIn [1]\u001b[0m, in \u001b[0;36m<module>\u001b[0;34m\u001b[0m\n\u001b[1;32m      1\u001b[0m \u001b[38;5;28;01mimport\u001b[39;00m \u001b[38;5;21;01mnumpy\u001b[39;00m \u001b[38;5;28;01mas\u001b[39;00m \u001b[38;5;21;01mnp\u001b[39;00m\n\u001b[1;32m      2\u001b[0m \u001b[38;5;28;01mfrom\u001b[39;00m \u001b[38;5;21;01mscipy\u001b[39;00m\u001b[38;5;21;01m.\u001b[39;00m\u001b[38;5;21;01mio\u001b[39;00m \u001b[38;5;28;01mimport\u001b[39;00m wavfile\n\u001b[0;32m----> 3\u001b[0m \u001b[38;5;28;01mimport\u001b[39;00m \u001b[38;5;21;01mmatplotlib\u001b[39;00m\u001b[38;5;21;01m.\u001b[39;00m\u001b[38;5;21;01mpyplot\u001b[39;00m \u001b[38;5;28;01mas\u001b[39;00m \u001b[38;5;21;01mplt\u001b[39;00m\n",
      "\u001b[0;31mModuleNotFoundError\u001b[0m: No module named 'matplotlib'"
     ]
    }
   ],
   "source": [
    "import numpy as np\n",
    "from scipy.io import wavfile\n",
    "import matplotlib.pyplot as plt"
   ]
  },
  {
   "cell_type": "code",
   "execution_count": 2,
   "metadata": {},
   "outputs": [],
   "source": [
    "freq1 = 1200\n",
    "freq2 = 2400"
   ]
  },
  {
   "cell_type": "code",
   "execution_count": 3,
   "metadata": {},
   "outputs": [],
   "source": [
    "def openWavFile(filename):\n",
    "    sampling_rate, data = wavfile.read(filename)\n",
    "    print(f\"sampling rate: {sampling_rate}\")\n",
    "\n",
    "    length = data.shape[0] / sampling_rate\n",
    "    print(f\"length = {length}s\")\n",
    "    \n",
    "    return sampling_rate, data"
   ]
  },
  {
   "cell_type": "code",
   "execution_count": 4,
   "metadata": {},
   "outputs": [],
   "source": [
    "def extract_peak_frequency(data, sampling_rate):\n",
    "    fft_data = np.fft.fft(data)\n",
    "    freqs = np.fft.fftfreq(len(data))\n",
    "    \n",
    "    peak_coefficient = np.argmax(np.abs(fft_data))\n",
    "    peak_freq = freqs[peak_coefficient]\n",
    "    \n",
    "    return abs(peak_freq * sampling_rate)"
   ]
  },
  {
   "cell_type": "code",
   "execution_count": 5,
   "metadata": {},
   "outputs": [],
   "source": [
    "def getChunks(milliseconds, sampling_rate):\n",
    "    #divide this extracted data into 50ms chunks, and find the peak or dominant frequency of each chunk\n",
    "    #now if the chunk's peak frequency is 1200Hz, then it is 0 bit and if it's 1400Hz, then it is 1 bit.\n",
    "    #group these bits together and that's the received data\n",
    "    try:\n",
    "        milliseconds = milliseconds/1000\n",
    "\n",
    "        delay = int(milliseconds*sampling_rate)\n",
    "        print(f\"delay between tones: {delay} samples\")\n",
    "        chunks = []\n",
    "\n",
    "        data_length = len(data) - len(data)%delay\n",
    "        prev = 0\n",
    "\n",
    "        for i in range(delay, data_length, delay):\n",
    "            chunks.append(data[prev:i])\n",
    "            prev = i\n",
    "    except:\n",
    "        pass\n",
    "    \n",
    "    \n",
    "    return chunks"
   ]
  },
  {
   "cell_type": "code",
   "execution_count": 6,
   "metadata": {},
   "outputs": [],
   "source": [
    "def extractData(chunks, sampling_rate):\n",
    "    try:\n",
    "        peak_freqs = []\n",
    "        for chunk in chunks:\n",
    "            peak_freqs.append(round(extract_peak_frequency(chunk, sampling_rate), 0))\n",
    "    except:\n",
    "        pass\n",
    "    \n",
    "    return peak_freqs"
   ]
  },
  {
   "cell_type": "code",
   "execution_count": 7,
   "metadata": {},
   "outputs": [],
   "source": [
    "def extractBits(peak_freqs):\n",
    "    bits = []\n",
    "    foundStartSequence = False\n",
    "    foundEndSequence = False\n",
    "    for frequency in peak_freqs:\n",
    "        if(frequency >= 2495 and frequency <= 2505 and foundStartSequence == False):\n",
    "            foundStartSequence = True\n",
    "            print(\"Start sequence found!\")\n",
    "        \n",
    "        elif(frequency >= 3495 and frequency <= 3505 and foundEndSequence == False):\n",
    "            foundEndSequence = True\n",
    "            print(\"End sequence found!\")\n",
    "            break\n",
    "        \n",
    "        elif(frequency >= freq1-10.0 and frequency <= freq1+10.0):\n",
    "            bits.append(0)\n",
    "        \n",
    "        elif(frequency >= freq2-10.0 and frequency <= freq2+10.0):\n",
    "            bits.append(1)\n",
    "            \n",
    "    bin_bits = []\n",
    "    s = \"\"\n",
    "    for i in range(len(bits)):\n",
    "        if (i+1)%8 == 0:\n",
    "            s += str(bits[i])\n",
    "            bin_bits.append(s)\n",
    "            s = \"\"\n",
    "        else:\n",
    "            s += str(bits[i])\n",
    "            \n",
    "    return bin_bits"
   ]
  },
  {
   "cell_type": "code",
   "execution_count": 8,
   "metadata": {},
   "outputs": [],
   "source": [
    "def decodeAscii(bin_string):\n",
    "    \"\"\"binary_int = int(bin_string, 2);\n",
    "    byte_number = binary_int.bit_length() + 7 // 8\n",
    "    binary_array = binary_int.to_bytes(byte_number, \"big\")\n",
    "    ascii_text = \"Bin string cannot be decoded\"\n",
    "    for enc in ['utf-8', 'ascii', 'ansi']:\n",
    "        try:\n",
    "            ascii_text = binary_array.decode(encoding=enc)\n",
    "            break\n",
    "        except:\n",
    "            pass\n",
    "    print(ascii_text)\"\"\"\n",
    "    \n",
    "    \n",
    "    bin_to_str = \"\".join([chr(int(bin_string[i:i+8],2)) for i in range(0,len(bin_string),8)])\n",
    "\n",
    "    return bin_to_str"
   ]
  },
  {
   "cell_type": "code",
   "execution_count": 2,
   "metadata": {},
   "outputs": [
    {
     "ename": "NameError",
     "evalue": "name 'openWavFile' is not defined",
     "output_type": "error",
     "traceback": [
      "\u001b[0;31m---------------------------------------------------------------------------\u001b[0m",
      "\u001b[0;31mNameError\u001b[0m                                 Traceback (most recent call last)",
      "\u001b[1;32m/Users/arnavsinghal/Downloads/ads-main/audio.ipynb Cell 9'\u001b[0m in \u001b[0;36m<module>\u001b[0;34m\u001b[0m\n\u001b[1;32m      <a href='vscode-notebook-cell:/Users/arnavsinghal/Downloads/ads-main/audio.ipynb#ch0000008?line=0'>1</a>\u001b[0m filename \u001b[39m=\u001b[39m \u001b[39minput\u001b[39m(\u001b[39m\"\u001b[39m\u001b[39mEnter the wave file with extension: \u001b[39m\u001b[39m\"\u001b[39m)\n\u001b[1;32m      <a href='vscode-notebook-cell:/Users/arnavsinghal/Downloads/ads-main/audio.ipynb#ch0000008?line=1'>2</a>\u001b[0m \u001b[39m#now open the wav file\u001b[39;00m\n\u001b[0;32m----> <a href='vscode-notebook-cell:/Users/arnavsinghal/Downloads/ads-main/audio.ipynb#ch0000008?line=2'>3</a>\u001b[0m sampling_rate, data \u001b[39m=\u001b[39m openWavFile(filename)\n\u001b[1;32m      <a href='vscode-notebook-cell:/Users/arnavsinghal/Downloads/ads-main/audio.ipynb#ch0000008?line=4'>5</a>\u001b[0m \u001b[39m#extract the chunks, each chunk is of 10ms in size\u001b[39;00m\n\u001b[1;32m      <a href='vscode-notebook-cell:/Users/arnavsinghal/Downloads/ads-main/audio.ipynb#ch0000008?line=5'>6</a>\u001b[0m chunks \u001b[39m=\u001b[39m getChunks(\u001b[39m10\u001b[39m, sampling_rate)\n",
      "\u001b[0;31mNameError\u001b[0m: name 'openWavFile' is not defined"
     ]
    }
   ],
   "source": [
    "filename = input(\"Enter the wave file with extension: \")\n",
    "#now open the wav file\n",
    "sampling_rate, data = openWavFile(filename)\n",
    "\n",
    "#extract the chunks, each chunk is of 10ms in size\n",
    "chunks = getChunks(10, sampling_rate)"
   ]
  },
  {
   "cell_type": "code",
   "execution_count": 10,
   "metadata": {},
   "outputs": [],
   "source": [
    "#get the peak frequencies from the chunks\n",
    "peak_freqs = extractData(chunks, sampling_rate)"
   ]
  },
  {
   "cell_type": "code",
   "execution_count": 11,
   "metadata": {},
   "outputs": [],
   "source": [
    "bits = extractBits(peak_freqs)"
   ]
  },
  {
   "cell_type": "code",
   "execution_count": 12,
   "metadata": {},
   "outputs": [],
   "source": [
    "bin_string = \"\"\n",
    "\n",
    "for i in bits:\n",
    "    bin_string += i\n",
    "    \n",
    "#print(bin_string)\n",
    "\n",
    "#split the binary string at spaces, because, I don't know how to decode a space character(0100000)\n",
    "bin_splits = bin_string.split(\"0100000\")"
   ]
  },
  {
   "cell_type": "code",
   "execution_count": 13,
   "metadata": {},
   "outputs": [
    {
     "name": "stdout",
     "output_type": "stream",
     "text": [
      "hello there\u0000 "
     ]
    }
   ],
   "source": [
    "for s in bin_splits:\n",
    "    print(decodeAscii(s), end=\" \")"
   ]
  },
  {
   "cell_type": "code",
   "execution_count": null,
   "metadata": {},
   "outputs": [],
   "source": []
  },
  {
   "cell_type": "code",
   "execution_count": null,
   "metadata": {},
   "outputs": [],
   "source": []
  }
 ],
 "metadata": {
  "interpreter": {
   "hash": "4bd624a0593993fe43ac4046b27b898fb2ef75c21c08f81e89e64ea0f51df676"
  },
  "kernelspec": {
   "display_name": "Python 3 (ipykernel)",
   "language": "python",
   "name": "python3"
  },
  "language_info": {
   "codemirror_mode": {
    "name": "ipython",
    "version": 3
   },
   "file_extension": ".py",
   "mimetype": "text/x-python",
   "name": "python",
   "nbconvert_exporter": "python",
   "pygments_lexer": "ipython3",
   "version": "3.9.13"
  }
 },
 "nbformat": 4,
 "nbformat_minor": 4
}
